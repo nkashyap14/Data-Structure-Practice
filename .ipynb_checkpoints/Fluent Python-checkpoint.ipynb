{
 "cells": [
  {
   "cell_type": "code",
   "execution_count": null,
   "metadata": {},
   "outputs": [],
   "source": [
    "import collections\n",
    "\n",
    "#constructed a simple class representing individual caards using namedtuple\n",
    "#collections.namedtuple can be used to build classes of objects that are bundles of attributes with no custommethods\n",
    "#like a database record\n",
    "Card = collections.namedtuple('Card', ['rank', 'suit'])\n",
    "\n",
    "class FrenchDeck:\n",
    "    ranks = [str(n) for n in range(2, 11)] + list('JQKA')\n",
    "    suits = 'spades diamonds clubs hearts'.split()\n",
    "    \n",
    "    def __init__(self):\n",
    "        self._cards = [Card(rank, suit) for suit in self.suits\n",
    "                                          for rank in self.ranks]\n",
    "        \n",
    "    def __len__(self):\n",
    "        return len(self._cards)\n",
    "    \n",
    "    #this function delegates to the []  operator of self._cards and as such our deck class that wraps it also automatically\n",
    "    #supports slicing\n",
    "    def __getitem__(self, position): \n",
    "        return self._cards[position]"
   ]
  },
  {
   "cell_type": "code",
   "execution_count": null,
   "metadata": {},
   "outputs": [],
   "source": [
    "deck = FrenchDeck()\n",
    "from random import choice\n",
    "\n",
    "choice(deck)"
   ]
  },
  {
   "cell_type": "code",
   "execution_count": null,
   "metadata": {
    "scrolled": true
   },
   "outputs": [],
   "source": [
    "deck[0::13] #starts at the 0 card and skips 13 at a time"
   ]
  },
  {
   "cell_type": "code",
   "execution_count": null,
   "metadata": {},
   "outputs": [],
   "source": [
    "deck[0::4] #stards at the first card and skips 4 at a time\n"
   ]
  },
  {
   "cell_type": "markdown",
   "metadata": {},
   "source": [
    "# Note\n",
    "By implmementing the __getitem__ special method it also makes it so that our deck is iterable, and it can be iterated in reverse\n",
    "namely for card in deck: and for card in reversed(deck): both work\n",
    "\n",
    "if a collection has no __contains__ method the in operator does a sequential scan"
   ]
  },
  {
   "cell_type": "markdown",
   "metadata": {},
   "source": [
    "# Note\n",
    "Special methods are called by the python interpreter and not us. we dont do my_object.__len__() we do len(my_object) and if my_object is a user defined class than python will call the len method we implemented.\n",
    "\n",
    "For built in types like list, str, byte array the interpreter returns the value of the ob_size field in the pyvarobject C struct that represents any variable sized built in object in memory. Namely the variable sized built in objects in python are stored in C structs. This ends up faster call than calling a method.\n",
    "\n",
    "Only special method frequently called by user code is __init__ which invokes the initializer of the super class in our own __init__ implementation."
   ]
  },
  {
   "cell_type": "markdown",
   "metadata": {},
   "source": [
    "## Stripping alpha numeric characters\n"
   ]
  },
  {
   "cell_type": "code",
   "execution_count": null,
   "metadata": {},
   "outputs": [],
   "source": [
    "string = \"alphanumeric@123432843248932.dsfadsf980u342;\"\n",
    "string_alnumway = ''.join(ch for ch in string if ch.isalnum())\n",
    "print(string_alnumway)"
   ]
  },
  {
   "cell_type": "code",
   "execution_count": null,
   "metadata": {},
   "outputs": [],
   "source": [
    "string = \"alphanumeric@123432843248932.dsfadsf980u342;\"\n",
    "string_filter_way = ''.join(filter(str.isalnum, string))\n",
    "print(string_filter_way)"
   ]
  },
  {
   "cell_type": "code",
   "execution_count": null,
   "metadata": {},
   "outputs": [],
   "source": [
    "import re\n",
    "\n",
    "string = \"alphanumeric@123432843248932.dsfadsf980u342;\"\n",
    "s = re.sub(r'[^a-zA-Z0-9]', '', string)\n",
    "print(s)"
   ]
  },
  {
   "cell_type": "markdown",
   "metadata": {},
   "source": [
    "## Exceptions"
   ]
  },
  {
   "cell_type": "code",
   "execution_count": null,
   "metadata": {},
   "outputs": [],
   "source": [
    "nums = [1, 2, 3, 4, 5, 6, 7, 8, 9, 10]\n",
    "\n",
    "try:\n",
    "    print(\"Printing index of number that is not in the list {}\".format(nums.index(43)))\n",
    "except ValueError:\n",
    "    print(\"whoops not a real number in the nums list\")"
   ]
  },
  {
   "cell_type": "markdown",
   "metadata": {},
   "source": [
    "# Booleans\n",
    "\n",
    "By default instances of user defined classes are considered truthy unless either of __ bool __ or __ len __ is implemented. Namley bool(x) calls x.__ bool __() and uses the result so if bool isnt implemented it calls x.__len __() and if that returns zero bool returns false otherwise it returns true. Otherwise it returns the result of bool. \n",
    "\n",
    "When python tries to determine whether x is true or false it just applies bool(x)"
   ]
  },
  {
   "cell_type": "markdown",
   "metadata": {},
   "source": [
    "# __rep__\n",
    "__ rep __ is used to get the string representation o an object for expression. applies to the %r operator. __ st r__ is called by the str() constructor and is implicitly used by the print fucntion"
   ]
  },
  {
   "cell_type": "markdown",
   "metadata": {},
   "source": [
    "# Chapter 2: Sequences"
   ]
  },
  {
   "cell_type": "markdown",
   "metadata": {},
   "source": [
    "### Types of Sequences\n",
    "#### Container Sequences\n",
    "    -list, tuple, and collections.deque which can all hold items of different types\n",
    "    -hold references ot the objects they contain which may be of any type\n",
    "#### Flat Sequences:\n",
    "    -str, bytes, bytearray, memoryview, and array.array hold items of one type\n",
    "    -physically store the value of each item within its own memory space and not as distinct objects\n",
    "    -Are more compact but are limited to hbolding primitive values like characters, bytes, and numbers\n",
    "### Alternative Way of Grouping\n",
    "#### Mutable Sequences:\n",
    "    -list, bytearray, array.array, collections.deque, and memoryview\n",
    "#### Immutable Sequences:\n",
    "    -tuple, str, and bytes"
   ]
  },
  {
   "cell_type": "code",
   "execution_count": null,
   "metadata": {},
   "outputs": [],
   "source": [
    "#List comprehensions are used to generate new lists \n",
    "symbols = '%$#%$#%#@$*&%'\n",
    "codes = [ord(symbol) for symbol in symbols]\n",
    "print(codes)\n",
    "#if a list comprehension spnas more than two lines it is best to break it apart or rewrite it as a plain for loop\n",
    "#in python3 list copmrehensions have their own scope so one can even oed something like and get the same result\n",
    "codes = [ord(symbols) for symbols in symbols]\n",
    "print(codes)\n",
    "#list comprehensions are used to build lists from sequences or any other iterable type by filtering and transforming itmsm"
   ]
  },
  {
   "cell_type": "code",
   "execution_count": null,
   "metadata": {},
   "outputs": [],
   "source": [
    "#creating cartesian products with list comprehbensions\n",
    "colors = ['black', 'white']\n",
    "sizes = ['S', 'M', 'L']\n",
    "\n",
    "tshirts = [(color, size) for color in colors for size in sizes]\n",
    "print(tshirts)\n",
    "tshirts = [(color, size) for color in colors\n",
    "          for size in sizes] #for better readability\n",
    "print(tshirts)\n",
    "#if i want it to be arranged by size then color we cna do. however it still iterates over color first. \n",
    "tshirts = [(size, color) for color in colors\n",
    "          for size in sizes]\n",
    "print(tshirts)\n",
    "\n",
    "#to arrange it by size and color but also iterate over size first do \n",
    "tshirts = [(size, color) for size in sizes\n",
    "          for color in colors]\n",
    "print(tshirts)"
   ]
  },
  {
   "cell_type": "code",
   "execution_count": null,
   "metadata": {},
   "outputs": [],
   "source": [
    "#generator expressions\n",
    "#generators save memory because they yield items one by one using iterator protocol rather than building a whole list just to feed anotehr\n",
    "#constructor \n",
    "#same syntax as listcomps but use parentheses rather than brackets\n",
    "import array\n",
    "symbols = '%$#@$#@$#@'\n",
    "tuple(ord(symbol) for symbol in symbols)\n",
    "array.array('I', (ord(symbol) for symbol in symbols))"
   ]
  },
  {
   "cell_type": "code",
   "execution_count": null,
   "metadata": {},
   "outputs": [],
   "source": [
    "colors = ['black', 'white']\n",
    "sizes = ['S', 'M', 'L']\n",
    "\n",
    "for tshirt in ('%s %s' % (c, s) for c in colors for s in sizes):\n",
    "    print(tshirt)\n",
    "    \n",
    "#this is the generator way of doing the cartesian product as opposed to the list comprehension. The advantage of this way is that\n",
    "#the items are yielded one by one whereas in the list comprehehnsion way a list with all 6 t shirts variation is produced. if teh lists get larger\n",
    "# this would save a ton of memory for a 1000 x 1000 cartesian product as the list comp would do 1000 * 1000 list creation"
   ]
  },
  {
   "cell_type": "code",
   "execution_count": null,
   "metadata": {},
   "outputs": [],
   "source": [
    "#tuples are not immutable lists necessarily. they can be used as those but they can also be used as records iwth no field names\n",
    "#each item in the tuple holds data for one field and the position gives it meaning\n",
    "#when using a tuple as a collection of fields the number of itemsis often fixed and their order is always vital"
   ]
  },
  {
   "cell_type": "code",
   "execution_count": null,
   "metadata": {},
   "outputs": [],
   "source": [
    "lax_coordinates = (33.9425, -118.408056)\n",
    "city, year, pop, chg, area = ('Tokyo', 2003, 32450, 0.66, 8014)\n",
    "traveler_ids = [('USA', '31195855'), ('BRA', 'CE342567'), ('ESP', 'XDA205856')]\n",
    "\n",
    "for passport in sorted(traveler_ids):\n",
    "    print('%s/%s' % passport) #as you can see the string formatting recognizes passport as a tuple and reads the fields appropriately\n",
    "    \n",
    "for country, _ in traveler_ids: #still can iterate over and grab every field itself from a tuple _ is a dummy variable as we are not interested in it\n",
    "    print(country) "
   ]
  },
  {
   "cell_type": "code",
   "execution_count": null,
   "metadata": {},
   "outputs": [],
   "source": [
    "#tuple unpacking\n",
    "#parallel assignment: assigning items from an iterable to a tuple of variables\n",
    "lax_coordinates = (33.9425, -118.408056)\n",
    "lat, long = lax_coordinates\n",
    "print(\"{} {}\".format(lat, long))\n",
    "#can swap values without using temp variable\n",
    "lat, long = long, lat\n",
    "print(\"{} {}\".format(lat, long))"
   ]
  },
  {
   "cell_type": "code",
   "execution_count": null,
   "metadata": {},
   "outputs": [],
   "source": [
    "#can unpack a tuple in a function call by prefixing the argument with a star\n",
    "print(divmod(20, 8))\n",
    "t = (20, 8)\n",
    "print(divmod(*t))"
   ]
  },
  {
   "cell_type": "code",
   "execution_count": null,
   "metadata": {},
   "outputs": [],
   "source": [
    "#os.path.split() is an example of tuple unpacking as what it does is when it atkes in a path is split into a tuple \n",
    "#like (path, file_name)\n",
    "\n",
    "import os\n",
    "path, filename = os.path.split('/home/luciano/.ssh/idrsa.pub')\n",
    "print(filename)\n",
    "print(path)"
   ]
  },
  {
   "cell_type": "code",
   "execution_count": null,
   "metadata": {},
   "outputs": [],
   "source": [
    "#defining function params with *args to grab arbitrary excess arguments is a classic python feature\n",
    "#py3 extens that concept to parallel assignment as well\n",
    "\n",
    "i, j, *rest = range(10)\n",
    "print(\"{} {} {}\".format(i, j, rest))\n",
    "i, j,  *rest = range(3)\n",
    "print(\"{} {} {}\".format(i, j, rest))"
   ]
  },
  {
   "cell_type": "code",
   "execution_count": null,
   "metadata": {},
   "outputs": [],
   "source": [
    "#unpacking nested tuples\n",
    "metro_areas = [\n",
    "    ('Tokyo', 'JP', 36.933, (35.689722, 139.691667)),\n",
    "    ('Dehli NCR', 'IN', 21.935, (28.613889, 77.208889)),\n",
    "    ('Mexico City', 'MX', 20.142, (19.43333, -99.13333))\n",
    "]\n",
    "\n",
    "print('{:15} | {:^9} | {:^9}'.format('', 'lat.', 'long.'))\n",
    "fmt = '{:15} | {:^9} | {:^9}'\n",
    "\n",
    "for name, cc, pop, (latitude, longitude) in metro_areas:\n",
    "    print(fmt.format(name, latitude, longitude))"
   ]
  },
  {
   "cell_type": "code",
   "execution_count": null,
   "metadata": {},
   "outputs": [],
   "source": [
    "#collections.namedtuple function is a factory that produces subclasses of tuple enhanced with field names and a class name\n",
    "\n",
    "from collections import namedtuple\n",
    "\n",
    "#params necessary for named tuple are class name and a list of field names (which should be iterble of strings or a single space\n",
    "#delimited string)\n",
    "City = namedtuple('City', 'name country population coordinates')\n",
    "tokyo = City('Tokyo', 'JP', 36.933, (35.689, 139.691)) #data passed as positional arguments ot the constructor\n",
    "print(tokyo)\n",
    "print(tokyo.population)\n",
    "print(tokyo.coordinates)\n",
    "print(tokyo._fields)\n",
    "dehli_data = ('Delhi NCR', 'IN', 21.935, (28.1613, 77.208))\n",
    "deli = City._make(dehli_data)\n",
    "print(deli._asdict())"
   ]
  },
  {
   "cell_type": "markdown",
   "metadata": {},
   "source": [
    "#  Tuple as Immutable Lists\n",
    "### When using a tuple as an immutable variation of a list its important to know that a tuple supports all methods of a list that do not involve adding or removing items except for the __reversed__ method. reversed(my_tuple) works"
   ]
  },
  {
   "cell_type": "markdown",
   "metadata": {},
   "source": [
    "# Slicing"
   ]
  },
  {
   "cell_type": "code",
   "execution_count": null,
   "metadata": {},
   "outputs": [],
   "source": [
    "# Last item in a slice is excluded as it works well with zero based index.\n",
    "#makes it easier to split a sequence in two parts at an index x. can do my_list[:x] and mylist[x:]\n",
    "#s[a:b:c] can be used to specify a stride or step c causing the resulting slice to skip items.\n",
    "#stride can also be negative returning items in reverse\n",
    "\n",
    "s = 'cat in the hat'\n",
    "print(s[::3] + \": \" + s[::-1] + \": \" + s[::2] + \": \" + s[::-2])"
   ]
  },
  {
   "cell_type": "code",
   "execution_count": null,
   "metadata": {},
   "outputs": [],
   "source": [
    "#the notation of a:b:c is only valid within [] when used as the indeing or subscript operator, and it produces a slice object"
   ]
  },
  {
   "cell_type": "code",
   "execution_count": null,
   "metadata": {},
   "outputs": [],
   "source": [
    "#the [] operator can also take multiple indexes or slices separated by commas \n",
    "#ie in numpy items of a 2 dimensional numpy.ndarray can be fetched using syntax a[i, j] and a 2d slice can be obtained with \n",
    "#a[m:n, k:l]\n",
    "#__get_item__ and __set_item__ are what handle the [] operator and they simply receive the indices as a tuple.\n",
    "#ie a[i, j] == a.__get_item__((i, j))\n",
    "#wont work with built in sequence types in python as they are one dimensional and they support only one index or slice, not a tuple\n",
    "#of htem"
   ]
  },
  {
   "cell_type": "code",
   "execution_count": null,
   "metadata": {},
   "outputs": [],
   "source": [
    "#slices are useful to extract information from sequences, but they are also used to change mutable sequences in place\n",
    "l = list(range(10))\n",
    "print(l)\n",
    "l[2:5] = [20, 30]\n",
    "print(\"l is {} and len is {}\".format(l, len(l)))\n",
    "del l[5:7]\n",
    "print(l)\n",
    "l[3::2] = [11, 22]\n",
    "print(l)\n",
    "#l[2:5] = 100 #this is an error as it is not an iterable\n",
    "l[2:5] = [100]\n",
    "#when the target of an assignment is a slice the right hand side must be an iterable object, even if it just has one item"
   ]
  },
  {
   "cell_type": "code",
   "execution_count": null,
   "metadata": {},
   "outputs": [],
   "source": [
    "#when you use + and * wiht sequences they will create a new sequence of the same type. However both operands must be sequences\n",
    "#of hte same type\n",
    "l = [1, 2, 3]\n",
    "r = [4, 5, 6]\n",
    "print(l + r)\n",
    "print(r * 2)\n",
    "print(l * 5)\n",
    "\n",
    "#both these operators create a new object and never change their operands"
   ]
  },
  {
   "cell_type": "code",
   "execution_count": null,
   "metadata": {},
   "outputs": [],
   "source": [
    "#the best way to initialize a list with a certain number of nested lists is to use list comprehension\n",
    "board = [['_'] * 3 for i in range(3)] #builds a nested list where each element is a list full of 3 elements each which are the \n",
    "#character _\n",
    "print(board)\n",
    "board[1][2] = 'X'\n",
    "print(board)"
   ]
  },
  {
   "cell_type": "code",
   "execution_count": null,
   "metadata": {},
   "outputs": [],
   "source": [
    "#incorrect way to initialize a list iwth a certain number of nested lists\n",
    "weird_board = [['_'] * 3] * 3\n",
    "print(weird_board)\n",
    "weird_board[1][2] = '0'\n",
    "print(weird_board)\n",
    "#all the 3rd elements in each list cget changed because the way this nested list is made is the outer list is made up of three\n",
    "#references to the same inner list"
   ]
  },
  {
   "cell_type": "code",
   "execution_count": null,
   "metadata": {},
   "outputs": [],
   "source": [
    "#special method that makes += work is __iad__ (inplace addition) however if __iadd__ not implemented thna python calls __add__\n",
    "#a += b if a implmenets __iadd__ like a mutable sequence like list, bytearray, array.array a will be changed in place. ie \n",
    "#effect will be a.extend(b)\n",
    "#however if a doesnt implement iadd the effect is akin to a = a + b. aka expression a + b is evaluated, new sequence created and then\n",
    "#a is assigned to the reference of the new object. ie identity of hte object would change. if iadd is implemented the identity\n",
    "#doesnt change and the change takes inplace otherwise identity is different.\n",
    "#in general mutable seequences have __iadd__ and += is in place "
   ]
  },
  {
   "cell_type": "code",
   "execution_count": null,
   "metadata": {},
   "outputs": [],
   "source": [
    "#repeated concatenations of immutable sequences is inefficient because the interpreter has to copy the whole target sequence\n",
    "#to create a new one wiht the new items concatenated rather than adding in new items in place."
   ]
  },
  {
   "cell_type": "code",
   "execution_count": null,
   "metadata": {},
   "outputs": [],
   "source": [
    "#do not put mutable items in tuples"
   ]
  },
  {
   "cell_type": "code",
   "execution_count": null,
   "metadata": {},
   "outputs": [],
   "source": [
    "#list.sort sorts a list in place. it returns None to remind us that it just changes the target object and does not create a new list\n",
    "#this is a python api convention, functions or methods that change an object in place should return None to make it clear to the\n",
    "#caller that the object itself was changed and no new object was created.\n",
    "\n",
    "#in cotrast the built in function sorted() creates a new list and returns it. sorted accepts any iterable object as an argument\n",
    "#including immutable sequences and generators\n",
    "\n",
    "#both list.sort and sorted take two optional keyword arguments reverse and key. reverse =True if to sort in descending order\n",
    "#key is a one argument function that will be applied to each item to produce its sorting key, ie key=str.lower to perform\n",
    "#a case insensitive sort or key=len to sort the strings by character lenght\n",
    "#Timsort is the algorithm that python uses and it is stable aka it preserves the relative ordering of items that compare equal"
   ]
  },
  {
   "cell_type": "code",
   "execution_count": null,
   "metadata": {},
   "outputs": [],
   "source": [
    "fruits = ['grape', 'raspberry', 'apple', 'banana']\n",
    "sorted(fruits) #sorted alphabetically"
   ]
  },
  {
   "cell_type": "code",
   "execution_count": null,
   "metadata": {},
   "outputs": [],
   "source": [
    "fruits #unchanged"
   ]
  },
  {
   "cell_type": "code",
   "execution_count": null,
   "metadata": {},
   "outputs": [],
   "source": [
    "sorted(fruits, reverse=True)"
   ]
  },
  {
   "cell_type": "code",
   "execution_count": null,
   "metadata": {},
   "outputs": [],
   "source": [
    "sorted(fruits, key=len) #sorts by the lenght of the string"
   ]
  },
  {
   "cell_type": "code",
   "execution_count": null,
   "metadata": {},
   "outputs": [],
   "source": [
    "sorted(fruits, key=len, reverse=True) #sorts by the length of the string in descending order"
   ]
  },
  {
   "cell_type": "code",
   "execution_count": null,
   "metadata": {},
   "outputs": [],
   "source": [
    "fruits.sort() #sorts in place\n",
    "fruits"
   ]
  },
  {
   "cell_type": "code",
   "execution_count": null,
   "metadata": {},
   "outputs": [],
   "source": [
    "#bisect module of the standard python library has binary search and also bisect.insort funciton which allows us to ensure that \n",
    "#sorted seqeuences stay sorted\n",
    "#two main functions of bisect are bisect.bisect and insort. they use the binary search algorithm to quickly find and insert items\n",
    "#in any sorted sequence \n",
    "\n",
    "#bisect(haystack, needle) does a binary search for needle in haystack. haystack must be a sorted sequence. it locates the position\n",
    "#where needle can be inserted while maintaining haystack in ascending order. aka items up to that point are <= needle.\n",
    "#can use result of bisect(haystack, needle) as the index argument to haystack.insert(index, needle). however you can use \n",
    "#insort to do both steps faster\n",
    "\n",
    "import bisect\n",
    "import sys\n",
    "\n",
    "HAYSTACK = [1, 4, 5, 6, 8, 12, 15, 20, 21, 23, 23, 26, 29, 30]\n",
    "NEEDLES = [0, 1, 2, 5, 8, 10, 22, 23, 29, 30, 31]\n",
    "\n",
    "ROW_FMT = '{0:2d} @ {1:2d}    {2}{0:<2d}'\n",
    "\n",
    "def demo(bisect_fn):\n",
    "         for needle in reversed(NEEDLES):\n",
    "            position = bisect_fn(HAYSTACK, needle)\n",
    "            offset = position * '   |'\n",
    "            print(ROW_FMT.format(needle, position, offset))\n",
    "            \n",
    "if __name__ == '__main__':\n",
    "    if sys.argv[-1] == 'left':\n",
    "        bisect_fn = bisect.bisect_left\n",
    "    else:\n",
    "        bisect_fn = bisect.bisect\n",
    "\n",
    "print('DEMO:', bisect_fn.__name__)\n",
    "print(\"haystack ->\", ' '.join('%2d' %n for n in HAYSTACK))"
   ]
  },
  {
   "cell_type": "code",
   "execution_count": null,
   "metadata": {},
   "outputs": [],
   "source": [
    "#insort(seq, item) inserts item into seq so as to keep seeq in ascending order \n",
    "import bisect\n",
    "import random\n",
    "\n",
    "SIZE = 7\n",
    "random.seed(1729)\n",
    "my_list = []\n",
    "\n",
    "for i in range(SIZE):\n",
    "    new_item = random.randrange(SIZE*2)\n",
    "    bisect.insort(my_list, new_item)\n",
    "    print('%2d ->' % new_item, my_list)"
   ]
  },
  {
   "cell_type": "code",
   "execution_count": null,
   "metadata": {},
   "outputs": [],
   "source": [
    "#the list type is flexible and easy to use but depending on specific requirements there are better options. ie array is more \n",
    "#efficient for 10 million floating point values because an array doesnt actually hold full fledged float objects but only the\n",
    "#packed bytes representing their machine values \n",
    "#another time the list wouldnt be correct is if you are constantly adding and removing items form the ends of a list as a FIFO\n",
    "#or a LIFO data structure. in that case a deque (double ended queue) works better and faster\n",
    "#if my code does a lot of containment checks ie item in my_collection than consider using a set instead as they are optimized \n",
    "#for fast membership checking. however sets arent sequences as they are unordered."
   ]
  },
  {
   "cell_type": "code",
   "execution_count": null,
   "metadata": {},
   "outputs": [],
   "source": [
    "#an array supports all mutable sequence operations (.pop, .insert, .extend) and adds methods for fast loading and saving such\n",
    "#as .frombytes and .tofile\n",
    "#a python array is as lean as a c array\n",
    "#when you instantiate an array you also instantiate the type of tghe elmenets within. Array will only hold that element type\n",
    "\n",
    "from array import array\n",
    "from random import random\n",
    "floats = array('d', (random() for i in range(10**7)))\n",
    "floats[-1]\n",
    "\n"
   ]
  },
  {
   "cell_type": "code",
   "execution_count": null,
   "metadata": {},
   "outputs": [],
   "source": [
    "#saving with array.tofile is about 7 tiumes faster than writing one float per line in a text file.\n",
    "#also the size of a binary file vs a text file is about 50% smaller for the same amount of data."
   ]
  },
  {
   "cell_type": "code",
   "execution_count": null,
   "metadata": {},
   "outputs": [],
   "source": [
    "#the arary type does not have an inplace sort method. if there exists a need to sort an array us the sorted functon to rebuild it\n",
    "#a = array.array(a.typecode, sorted(a))"
   ]
  },
  {
   "cell_type": "code",
   "execution_count": null,
   "metadata": {},
   "outputs": [],
   "source": [
    "#memoryview class is a built in class which is a shared memory sequence type that allows us to handle slices of arrays without\n",
    "#copying bytes.\n",
    "#memoryview is a generalized numpy array structure in python. allolws us to share memory between datastructures without copying"
   ]
  },
  {
   "cell_type": "code",
   "execution_count": null,
   "metadata": {},
   "outputs": [],
   "source": [
    "#memorylview.cast allows us to change the way multiple bytes are read or written as units without moving bits around\n",
    "#returns another memory view object which ust shares the same memory\n",
    "numbers = array('h', [-2, -1, 0, 1, 2])\n",
    "memv = memoryview(numbers)\n",
    "print(len(memv))\n",
    "print(memv[0])\n",
    "print(memv.tolist())\n",
    "memv_oct = memv.cast('B') #casting elements of v to type code 'B' which is $unsigned char\n",
    "print(memv_oct.tolist())\n",
    "memv_oct[5] = 4 #assigning the value 4 to byte offset 5. \n",
    "print(memv_oct.tolist())\n",
    "print(numbers)"
   ]
  },
  {
   "cell_type": "code",
   "execution_count": null,
   "metadata": {},
   "outputs": [],
   "source": [
    "#numpy + scipy are used for advanced array and matrix operations.\n",
    "#numpy implmements multi dimensional homogenous arrays and matrix types\n",
    "#scipy is a library written on top of numpy that offers many scientific computing algorithms from linear algebra, numerical\n",
    "#calculus and statistics. scipy leverages widely used C and Fortran codebase from netlib repo.\n"
   ]
  },
  {
   "cell_type": "code",
   "execution_count": null,
   "metadata": {},
   "outputs": [],
   "source": [
    "#.append and .pop methods make a list uasable as a stack or a queu however inserting and removing from the left of a list\n",
    "#0 index is costly as entire list must be shifted.\n",
    "#class collections.deque is a thread safe double ended queue designed for fast inserting and removing from both ends\n",
    "from collections import deque\n",
    "dq = deque(range(10), maxlen=10)\n",
    "print(dq)\n",
    "dq.rotate(3)\n",
    "print(dq)\n",
    "dq.rotate(-4)\n",
    "print(dq)\n",
    "dq.appendleft(-1)\n",
    "print(dq)\n",
    "dq.extend([11, 22, 33])\n",
    "print(dq)\n",
    "dq.append(13)\n",
    "print(dq)\n",
    "dq.extendleft([10, 20, 30, 40])\n",
    "print(dq)"
   ]
  },
  {
   "cell_type": "code",
   "execution_count": null,
   "metadata": {},
   "outputs": [],
   "source": [
    "#deque's implmement most of the list methods and add a few specific to its design ie popleft and rotate. however removing items \n",
    "#from the middle of a deque are expensive. it is optimized for appending and popping from the ends.\n",
    "#append and popleft are atomic operations so won't have to use a lock/mutex in multi threaded applications"
   ]
  },
  {
   "cell_type": "code",
   "execution_count": null,
   "metadata": {},
   "outputs": [],
   "source": [
    "#other qeueu datatypes are queue.\n",
    "from queue import Queue\n",
    "q = Queue(maxsize=3)\n",
    "print(q.empty())\n",
    "print(q.qsize())\n",
    "q.put(70)\n",
    "print(q.qsize())\n",
    "print(q.get())\n",
    "q.put(80)\n",
    "q.put(90)\n",
    "print(q.get())"
   ]
  },
  {
   "cell_type": "code",
   "execution_count": 2,
   "metadata": {},
   "outputs": [],
   "source": [
    "#python sequeences can be thought of as immutable vs mutable or also flat sequences vs container sequences. flat are more compact,\n",
    "#faster and easier to use but limited to storing atomic data ie nums, ch, bytes. container sequenfces are more flexibble but\n",
    "#can surprise us when holding mutable objects and also incur more overhead.\n",
    "#tuples in python have 2 roles, recoreds with unnamed ifelds and also immutable lists"
   ]
  },
  {
   "cell_type": "code",
   "execution_count": null,
   "metadata": {},
   "outputs": [],
   "source": []
  }
 ],
 "metadata": {
  "kernelspec": {
   "display_name": "Python 3",
   "language": "python",
   "name": "python3"
  },
  "language_info": {
   "codemirror_mode": {
    "name": "ipython",
    "version": 3
   },
   "file_extension": ".py",
   "mimetype": "text/x-python",
   "name": "python",
   "nbconvert_exporter": "python",
   "pygments_lexer": "ipython3",
   "version": "3.8.5"
  }
 },
 "nbformat": 4,
 "nbformat_minor": 4
}
